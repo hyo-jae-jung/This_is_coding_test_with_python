{
 "cells": [
  {
   "cell_type": "code",
   "execution_count": 17,
   "metadata": {},
   "outputs": [
    {
     "name": "stdout",
     "output_type": "stream",
     "text": [
      "[0, 1, 2, 3, 4, 5, 6, 7, 8, 9]\n"
     ]
    }
   ],
   "source": [
    "array = [5,7,9,0,3,1,6,2,4,8]\n",
    "\n",
    "def quick_sort(arr):\n",
    "\n",
    "    if len(arr) <= 1:\n",
    "        return arr\n",
    "\n",
    "    def partition(arr):\n",
    "        pivot = arr[0]\n",
    "        rest = arr[1:]\n",
    "        arr_left = [i for i in rest if i < pivot]\n",
    "        arr_right = [i for i in rest if i > pivot]\n",
    "        return arr_left,pivot,arr_right\n",
    "\n",
    "    left,pivot,right = partition(arr)\n",
    "\n",
    "    return quick_sort(left) + [pivot] + quick_sort(right)\n",
    "\n",
    "print(quick_sort(array))"
   ]
  }
 ],
 "metadata": {
  "kernelspec": {
   "display_name": "Python 3",
   "language": "python",
   "name": "python3"
  },
  "language_info": {
   "codemirror_mode": {
    "name": "ipython",
    "version": 3
   },
   "file_extension": ".py",
   "mimetype": "text/x-python",
   "name": "python",
   "nbconvert_exporter": "python",
   "pygments_lexer": "ipython3",
   "version": "3.8.10"
  },
  "orig_nbformat": 4,
  "vscode": {
   "interpreter": {
    "hash": "916dbcbb3f70747c44a77c7bcd40155683ae19c65e1c03b4aa3499c5328201f1"
   }
  }
 },
 "nbformat": 4,
 "nbformat_minor": 2
}
