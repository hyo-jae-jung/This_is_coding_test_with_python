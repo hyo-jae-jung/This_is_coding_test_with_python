{
 "cells": [
  {
   "cell_type": "code",
   "execution_count": 24,
   "metadata": {},
   "outputs": [
    {
     "name": "stdout",
     "output_type": "stream",
     "text": [
      "[0, 0, 1, 1, 0]\n",
      "[0, 0, 0, 1, 1]\n",
      "[1, 1, 1, 1, 1]\n",
      "[0, 0, 0, 0, 0]\n",
      "[53, 3, 44]\n"
     ]
    }
   ],
   "source": [
    "n,m = map(int,input().split())\n",
    "\n",
    "graph = []\n",
    "for i in range(n):\n",
    "    graph.append([int(i) for i in list(input())])\n",
    "\n",
    "print(*graph,sep='\\n')\n",
    "\n",
    "def dfs(x,y,cnt=0):\n",
    "    if x <=-1 or x >= n or y <= -1 or y >= m:\n",
    "        return 0\n",
    "\n",
    "    if graph[x][y] == 0:\n",
    "        graph[x][y] = 1\n",
    "        cnt+=1\n",
    "        cnt+=sum([\n",
    "            dfs(x-1,y,cnt),\n",
    "            dfs(x,y-1,cnt),\n",
    "            dfs(x+1,y,cnt),\n",
    "            dfs(x,y+1,cnt),\n",
    "            ])\n",
    "    return cnt\n",
    "\n",
    "result = []\n",
    "for i in range(n):\n",
    "    for j in range(m):\n",
    "        temp = dfs(i,j)\n",
    "        if temp > 0:\n",
    "            result.append(temp)\n",
    "\n",
    "print(result)\n"
   ]
  }
 ],
 "metadata": {
  "kernelspec": {
   "display_name": "Python 3",
   "language": "python",
   "name": "python3"
  },
  "language_info": {
   "codemirror_mode": {
    "name": "ipython",
    "version": 3
   },
   "file_extension": ".py",
   "mimetype": "text/x-python",
   "name": "python",
   "nbconvert_exporter": "python",
   "pygments_lexer": "ipython3",
   "version": "3.8.10"
  },
  "orig_nbformat": 4,
  "vscode": {
   "interpreter": {
    "hash": "916dbcbb3f70747c44a77c7bcd40155683ae19c65e1c03b4aa3499c5328201f1"
   }
  }
 },
 "nbformat": 4,
 "nbformat_minor": 2
}
