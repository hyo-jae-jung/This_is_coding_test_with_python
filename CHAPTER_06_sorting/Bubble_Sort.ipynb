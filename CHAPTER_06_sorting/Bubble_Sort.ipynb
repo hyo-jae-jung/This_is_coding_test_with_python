{
 "cells": [
  {
   "cell_type": "code",
   "execution_count": null,
   "id": "b194f54a",
   "metadata": {},
   "outputs": [
    {
     "name": "stdout",
     "output_type": "stream",
     "text": [
      "[5, 3, 4, 1, 2]\n",
      "[3, 4, 1, 2, 5]\n",
      "[3, 1, 2, 4, 5]\n",
      "[1, 2, 3, 4, 5]\n",
      "[1, 2, 3, 4, 5]\n",
      "[1, 2, 3, 4, 5]\n"
     ]
    }
   ],
   "source": [
    "arr = [5,3,4,1,2]\n",
    "n = len(arr)\n",
    "\n",
    "print(arr)\n",
    "for i in range(n):\n",
    "    for j in range(n - i - 1):\n",
    "        if arr[j] > arr[j + 1]:\n",
    "            arr[j], arr[j + 1] = arr[j + 1], arr[j]\n",
    "    print(arr)\n"
   ]
  }
 ],
 "metadata": {
  "kernelspec": {
   "display_name": "Python 3",
   "language": "python",
   "name": "python3"
  },
  "language_info": {
   "codemirror_mode": {
    "name": "ipython",
    "version": 3
   },
   "file_extension": ".py",
   "mimetype": "text/x-python",
   "name": "python",
   "nbconvert_exporter": "python",
   "pygments_lexer": "ipython3",
   "version": "3.10.12"
  }
 },
 "nbformat": 4,
 "nbformat_minor": 5
}
