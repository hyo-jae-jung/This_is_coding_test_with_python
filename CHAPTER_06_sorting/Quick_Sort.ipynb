{
 "cells": [
  {
   "cell_type": "code",
   "execution_count": 17,
   "metadata": {},
   "outputs": [
    {
     "name": "stdout",
     "output_type": "stream",
     "text": [
      "[0, 1, 2, 3, 4, 5, 6, 7, 8, 9]\n"
     ]
    }
   ],
   "source": [
    "array = [5,7,9,0,3,1,6,2,4,8]\n",
    "\n",
    "def quick_sort(arr):\n",
    "\n",
    "    if len(arr) <= 1:\n",
    "        return arr\n",
    "\n",
    "    def partition(arr):\n",
    "        pivot = arr[0]\n",
    "        rest = arr[1:]\n",
    "        arr_left = [i for i in rest if i < pivot]\n",
    "        arr_right = [i for i in rest if i > pivot]\n",
    "        return arr_left,pivot,arr_right\n",
    "\n",
    "    left,pivot,right = partition(arr)\n",
    "\n",
    "    return quick_sort(left) + [pivot] + quick_sort(right)\n",
    "\n",
    "print(quick_sort(array))"
   ]
  },
  {
   "cell_type": "code",
   "execution_count": 25,
   "metadata": {},
   "outputs": [
    {
     "name": "stdout",
     "output_type": "stream",
     "text": [
      "[0, 1, 2, 3, 4, 5, 6, 7, 8, 9]\n"
     ]
    }
   ],
   "source": [
    "array = [5,7,9,0,3,1,6,2,4,8]\n",
    "\n",
    "def quick_sort(arr,start,end):\n",
    "    \n",
    "    if start >= end:\n",
    "        return\n",
    "    \n",
    "    pivot = start\n",
    "    left = start + 1\n",
    "    right = end\n",
    "\n",
    "    while left <= right:\n",
    "\n",
    "        while left <= end and arr[pivot] >= arr[left]:\n",
    "            left+=1\n",
    "\n",
    "        while right > start and arr[pivot] <= arr[right]:\n",
    "            right-=1\n",
    "        \n",
    "        if left > right:\n",
    "            arr[pivot],arr[right] = arr[right],arr[pivot]\n",
    "        else:\n",
    "            arr[left],arr[right] = arr[right],arr[left]\n",
    "    \n",
    "    quick_sort(arr,start,right-1)\n",
    "    quick_sort(arr,right+1,end)\n",
    "\n",
    "quick_sort(array,0,len(array)-1)\n",
    "print(array)\n"
   ]
  }
 ],
 "metadata": {
  "kernelspec": {
   "display_name": "Python 3",
   "language": "python",
   "name": "python3"
  },
  "language_info": {
   "codemirror_mode": {
    "name": "ipython",
    "version": 3
   },
   "file_extension": ".py",
   "mimetype": "text/x-python",
   "name": "python",
   "nbconvert_exporter": "python",
   "pygments_lexer": "ipython3",
   "version": "3.10.12"
  },
  "orig_nbformat": 4,
  "vscode": {
   "interpreter": {
    "hash": "916dbcbb3f70747c44a77c7bcd40155683ae19c65e1c03b4aa3499c5328201f1"
   }
  }
 },
 "nbformat": 4,
 "nbformat_minor": 2
}
