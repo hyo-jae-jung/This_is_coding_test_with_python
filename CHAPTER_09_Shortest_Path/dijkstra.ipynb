{
 "cells": [
  {
   "cell_type": "code",
   "execution_count": 9,
   "id": "250fc504",
   "metadata": {},
   "outputs": [
    {
     "name": "stdout",
     "output_type": "stream",
     "text": [
      "[True, True, True, True, True]\n",
      "[1000000000.0, 0, 1, 2, 3]\n"
     ]
    }
   ],
   "source": [
    "# graph = [\n",
    "#     [],\n",
    "#     [(2,2),(3,5),(4,1)],\n",
    "#     [(3,3),(4,2)],\n",
    "#     [(2,3),(6,5)],\n",
    "#     [(3,3),(5,1)],\n",
    "#     [(3,1),(6,2)],\n",
    "#     [],\n",
    "# ]\n",
    "\n",
    "graph = [\n",
    "    [],\n",
    "    [(2,1),(3,2),(4,4)],\n",
    "    [(1,1),(4,2)],\n",
    "    [(1,2),(4,3)],\n",
    "    [(1,4),(2,2),(3,3)],\n",
    "]\n",
    "\n",
    "\n",
    "\n",
    "from heapq import heapify,heappop,heappush\n",
    "\n",
    "n = len(graph) - 1\n",
    "v = 1\n",
    "INF = 1e9\n",
    "visited = [False]*(n+1)\n",
    "distance = [INF]*(n+1)\n",
    "distance[v] = 0\n",
    "h = list(zip(distance,range(n+1)))\n",
    "heapify(h)\n",
    "\n",
    "while h:\n",
    "    d,v = heappop(h)\n",
    "    if visited[v]:\n",
    "        continue\n",
    "    visited[v] = True\n",
    "    for v2,d2 in graph[v]:\n",
    "        distance[v2] = min(distance[v]+d2,distance[v2])\n",
    "        heappush(h,(distance[v2],v2))\n",
    "\n",
    "print(visited)\n",
    "print(distance)\n"
   ]
  }
 ],
 "metadata": {
  "kernelspec": {
   "display_name": "Python 3",
   "language": "python",
   "name": "python3"
  },
  "language_info": {
   "codemirror_mode": {
    "name": "ipython",
    "version": 3
   },
   "file_extension": ".py",
   "mimetype": "text/x-python",
   "name": "python",
   "nbconvert_exporter": "python",
   "pygments_lexer": "ipython3",
   "version": "3.10.12"
  }
 },
 "nbformat": 4,
 "nbformat_minor": 5
}
