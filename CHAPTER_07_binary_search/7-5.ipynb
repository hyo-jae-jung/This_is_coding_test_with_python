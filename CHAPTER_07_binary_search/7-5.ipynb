{
 "cells": [
  {
   "cell_type": "code",
   "execution_count": 1,
   "metadata": {},
   "outputs": [
    {
     "name": "stdout",
     "output_type": "stream",
     "text": [
      "[2, 3, 7, 8, 9]\n"
     ]
    }
   ],
   "source": [
    "arr = [8,3,7,9,2]\n",
    "arr.sort()\n",
    "print(arr)"
   ]
  },
  {
   "cell_type": "code",
   "execution_count": 15,
   "metadata": {},
   "outputs": [
    {
     "data": {
      "text/plain": [
       "'yes'"
      ]
     },
     "execution_count": 15,
     "metadata": {},
     "output_type": "execute_result"
    }
   ],
   "source": [
    "# binary search\n",
    "\n",
    "def search_item_with_binary_search(arr,item_num):\n",
    "    left = 0\n",
    "    right = len(arr)-1\n",
    "    while left<=right:\n",
    "        mid = (left+right)//2\n",
    "\n",
    "        if arr[mid] == item_num:\n",
    "            return 'yes'\n",
    "        elif arr[mid] < item_num:\n",
    "            left = mid + 1\n",
    "        else:\n",
    "            right = mid - 1\n",
    "    else:\n",
    "        return 'no'\n",
    "\n",
    "search_item_with_binary_search(arr,9)\n"
   ]
  },
  {
   "cell_type": "code",
   "execution_count": 11,
   "metadata": {},
   "outputs": [
    {
     "name": "stdout",
     "output_type": "stream",
     "text": [
      "[2, 3, 7, 8, 9]\n",
      "3\n",
      "2\n",
      "3\n"
     ]
    }
   ],
   "source": [
    "from bisect import bisect_left,bisect_right,bisect\n",
    "\n",
    "print(arr)\n",
    "print(bisect(arr,7))\n",
    "print(bisect_left(arr,7))\n",
    "print(bisect_right(arr,7))"
   ]
  }
 ],
 "metadata": {
  "kernelspec": {
   "display_name": "Python 3",
   "language": "python",
   "name": "python3"
  },
  "language_info": {
   "codemirror_mode": {
    "name": "ipython",
    "version": 3
   },
   "file_extension": ".py",
   "mimetype": "text/x-python",
   "name": "python",
   "nbconvert_exporter": "python",
   "pygments_lexer": "ipython3",
   "version": "3.10.12"
  },
  "orig_nbformat": 4
 },
 "nbformat": 4,
 "nbformat_minor": 2
}
